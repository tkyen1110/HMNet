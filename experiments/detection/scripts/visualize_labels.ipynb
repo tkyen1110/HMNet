{
 "cells": [
  {
   "cell_type": "code",
   "execution_count": 1,
   "id": "53267ae8-d874-4e9d-b52b-46f5a123bc71",
   "metadata": {},
   "outputs": [],
   "source": [
    "import os\n",
    "import cv2\n",
    "import numpy as np\n",
    "import glob\n",
    "\n",
    "# Import of Metavision Machine Learning binding\n",
    "import metavision_sdk_ml\n",
    "import metavision_sdk_cv\n",
    "from metavision_sdk_core import EventBbox\n",
    "from metavision_sdk_core import BaseFrameGenerationAlgorithm\n",
    "from metavision_core.event_io.py_reader import EventDatReader\n",
    "from metavision_core.event_io.events_iterator import EventsIterator\n",
    "from metavision_core.event_io import EventNpyReader\n",
    "\n",
    "%matplotlib inline\n",
    "from matplotlib import pyplot as plt\n",
    "plt.rcParams['figure.figsize'] = [11, 7]"
   ]
  },
  {
   "cell_type": "code",
   "execution_count": 20,
   "id": "bf02581e-117a-45ac-8c3d-86f1a49617be",
   "metadata": {},
   "outputs": [
    {
     "name": "stdout",
     "output_type": "stream",
     "text": [
      "[(99999, 40., 144., 52., 33., 0, 1., 202, False)]\n"
     ]
    }
   ],
   "source": [
    "event_file = \"17-04-11_15-13-23_122500000_182500000\"\n",
    "event_dat_path = \"/home/tkyen/opencv_practice/data_3/Gen1_Automotive/detection_dataset_duration_60s_ratio_1.0/test/{}_td.dat\".format(event_file)\n",
    "event_npy_path = \"/home/tkyen/opencv_practice/data_1/Gen1_Automotive/HMNet/test_evt/{}_td.npy\".format(event_file)\n",
    "gt_label_path = \"/home/tkyen/opencv_practice/data_1/Gen1_Automotive/HMNet/test_lbl/{}_bbox.npy\".format(event_file)\n",
    "\n",
    "video_dir = \"./video_ev_gt\"\n",
    "os.makedirs(video_dir, exist_ok=True)\n",
    "\n",
    "event_dat = EventDatReader(event_dat_path)\n",
    "event_dat.seek_time(0)\n",
    "ev_height, ev_width = event_dat.get_size()\n",
    "\n",
    "events_all = np.load(event_npy_path)\n",
    "labels_all = np.load(gt_label_path)\n",
    "print(labels_all)\n",
    "delta_t = 5000\n",
    "\n",
    "# VideoWriter\n",
    "fourcc = cv2.VideoWriter_fourcc('m', 'p', '4', 'v')\n",
    "frame_rate = 10\n",
    "video_writer = cv2.VideoWriter(os.path.join(video_dir, '{}.mp4'.format(event_file)), fourcc, frame_rate, (ev_width, ev_height))\n",
    "colors = [[0,0,255], [0,255,0]]\n",
    "ev_dtype = {'names':['x','y','p','t'], 'formats':['<u2','<u2','<i2','<i8'], 'offsets':[0,2,4,8], 'itemsize':16}\n",
    "\n",
    "for i in range(int(60e6//delta_t)):    \n",
    "    evts = events_all[(events_all['t']>=i*delta_t) * (events_all['t']<(i+1)*delta_t)]\n",
    "    evts_t = evts['t']\n",
    "    evts_x = evts['x']\n",
    "    evts_y = evts['y']\n",
    "    evts_p = evts['p']\n",
    "    evts = np.concatenate((evts_x[:,None], evts_y[:,None], evts_p[:,None], evts_t[:,None]), axis=1)\n",
    "    evts_list = evts.tolist()\n",
    "    evts_list = list(map(tuple, evts_list))\n",
    "    events = np.empty((0,4), dtype=ev_dtype)\n",
    "    events = np.append(events, np.asarray(evts_list, dtype=ev_dtype))\n",
    "\n",
    "    image_all = np.zeros((ev_height, ev_width, 3), dtype=np.uint8)\n",
    "    BaseFrameGenerationAlgorithm.generate_frame(events, image_all)\n",
    "\n",
    "    cv2.putText(image_all, '{} ms / {} ms'.format(i*delta_t//1000, (i+1)*delta_t//1000), \n",
    "                (ev_width-200, 20), cv2.FONT_HERSHEY_TRIPLEX, 0.5, (0, 255, 255), 1, cv2.LINE_AA)\n",
    "    cv2.putText(image_all, 'GT',\n",
    "                (10, 20), cv2.FONT_HERSHEY_TRIPLEX, 0.5, (0, 255, 255), 1, cv2.LINE_AA)\n",
    "\n",
    "    gt_boxes = labels_all[(labels_all['t']>=i*delta_t) * (labels_all['t']<(i+1)*delta_t)]\n",
    "    for gt_box in gt_boxes:\n",
    "        t, x, y, w, h, class_id, confidence, track_id, invalid = gt_box\n",
    "        x, y, w, h = int(x), int(y), int(w), int(h)\n",
    "        if invalid == False:\n",
    "            cv2.rectangle(image_all, (x, y), (x+w, y+h), colors[class_id], 1)\n",
    "    video_writer.write(image_all)\n",
    "\n",
    "video_writer.release()"
   ]
  },
  {
   "cell_type": "code",
   "execution_count": null,
   "id": "34e7028f-f6a3-4ea1-95dd-9d4107f8a2f5",
   "metadata": {},
   "outputs": [],
   "source": []
  },
  {
   "cell_type": "code",
   "execution_count": null,
   "id": "1c5fa3e8-3f71-4f14-bc11-48ef1229080e",
   "metadata": {},
   "outputs": [],
   "source": []
  },
  {
   "cell_type": "code",
   "execution_count": 2,
   "id": "e8d89472-4dbe-4a1c-8540-9dbe71afe34b",
   "metadata": {},
   "outputs": [],
   "source": [
    "event_dat_dir = \"/home/tkyen/opencv_practice/data_3/Gen1_Automotive/detection_dataset_duration_60s_ratio_1.0/test\"\n",
    "gt_label_dir = \"/home/tkyen/opencv_practice/data_1/Gen1_Automotive/HMNet/test_lbl\"\n",
    "dt_label_dir = \"/home/tkyen/opencv_practice/HMNet/experiments/detection/workspace/hmnet_B3_yolox/result/pred_test_10\"\n",
    "video_dir = dt_label_dir + \"_video\"\n",
    "os.makedirs(video_dir, exist_ok=True)\n",
    "\n",
    "event_dat_list = sorted(glob.glob(os.path.join(event_dat_dir, \"*.dat\")))\n",
    "gt_label_list = sorted(glob.glob(os.path.join(gt_label_dir, \"*.npy\")))\n",
    "dt_label_list = sorted(glob.glob(os.path.join(dt_label_dir, \"*.npy\")))"
   ]
  },
  {
   "cell_type": "code",
   "execution_count": 25,
   "id": "8c811bdf-cefc-4105-b484-a09468326ff1",
   "metadata": {},
   "outputs": [
    {
     "name": "stdout",
     "output_type": "stream",
     "text": [
      "/home/tkyen/opencv_practice/data_1/Gen1_Automotive/HMNet/test_lbl/17-04-04_11-00-13_cut_15_183500000_243500000_bbox.npy Timestamps are not monotonic\n",
      "/home/tkyen/opencv_practice/data_1/Gen1_Automotive/HMNet/test_lbl/17-04-04_11-00-13_cut_15_183500000_243500000_bbox.npy Timestamps are not monotonic\n",
      "/home/tkyen/opencv_practice/data_1/Gen1_Automotive/HMNet/test_lbl/17-04-04_11-00-13_cut_15_183500000_243500000_bbox.npy Timestamps are not monotonic\n",
      "/home/tkyen/opencv_practice/data_1/Gen1_Automotive/HMNet/test_lbl/17-04-04_11-00-13_cut_15_183500000_243500000_bbox.npy Timestamps are not monotonic\n",
      "/home/tkyen/opencv_practice/data_1/Gen1_Automotive/HMNet/test_lbl/17-04-04_11-00-13_cut_15_183500000_243500000_bbox.npy Timestamps are not monotonic\n",
      "/home/tkyen/opencv_practice/data_1/Gen1_Automotive/HMNet/test_lbl/17-04-04_11-00-13_cut_15_183500000_243500000_bbox.npy Timestamps are not monotonic\n",
      "/home/tkyen/opencv_practice/data_1/Gen1_Automotive/HMNet/test_lbl/17-04-04_11-00-13_cut_15_183500000_243500000_bbox.npy Timestamps are not monotonic\n",
      "/home/tkyen/opencv_practice/data_1/Gen1_Automotive/HMNet/test_lbl/17-04-04_11-00-13_cut_15_183500000_243500000_bbox.npy Timestamps are not monotonic\n",
      "/home/tkyen/opencv_practice/data_1/Gen1_Automotive/HMNet/test_lbl/17-04-04_11-00-13_cut_15_183500000_243500000_bbox.npy Timestamps are not monotonic\n",
      "/home/tkyen/opencv_practice/data_1/Gen1_Automotive/HMNet/test_lbl/17-04-04_11-00-13_cut_15_183500000_243500000_bbox.npy Timestamps are not monotonic\n",
      "/home/tkyen/opencv_practice/data_1/Gen1_Automotive/HMNet/test_lbl/17-04-04_11-00-13_cut_15_183500000_243500000_bbox.npy Timestamps are not monotonic\n",
      "/home/tkyen/opencv_practice/data_1/Gen1_Automotive/HMNet/test_lbl/17-04-04_11-00-13_cut_15_183500000_243500000_bbox.npy Timestamps are not monotonic\n",
      "/home/tkyen/opencv_practice/data_1/Gen1_Automotive/HMNet/test_lbl/17-04-04_11-00-13_cut_15_183500000_243500000_bbox.npy Timestamps are not monotonic\n",
      "/home/tkyen/opencv_practice/data_1/Gen1_Automotive/HMNet/test_lbl/17-04-04_11-00-13_cut_15_183500000_243500000_bbox.npy Timestamps are not monotonic\n",
      "/home/tkyen/opencv_practice/data_1/Gen1_Automotive/HMNet/test_lbl/17-04-04_11-00-13_cut_15_183500000_243500000_bbox.npy Timestamps are not monotonic\n",
      "/home/tkyen/opencv_practice/data_1/Gen1_Automotive/HMNet/test_lbl/17-04-04_11-00-13_cut_15_183500000_243500000_bbox.npy Timestamps are not monotonic\n",
      "/home/tkyen/opencv_practice/data_1/Gen1_Automotive/HMNet/test_lbl/17-04-04_11-00-13_cut_15_183500000_243500000_bbox.npy Timestamps are not monotonic\n",
      "/home/tkyen/opencv_practice/data_1/Gen1_Automotive/HMNet/test_lbl/17-04-04_11-00-13_cut_15_183500000_243500000_bbox.npy Timestamps are not monotonic\n",
      "/home/tkyen/opencv_practice/data_1/Gen1_Automotive/HMNet/test_lbl/17-04-04_11-00-13_cut_15_183500000_243500000_bbox.npy Timestamps are not monotonic\n",
      "/home/tkyen/opencv_practice/data_1/Gen1_Automotive/HMNet/test_lbl/17-04-04_11-00-13_cut_15_183500000_243500000_bbox.npy Timestamps are not monotonic\n",
      "/home/tkyen/opencv_practice/data_1/Gen1_Automotive/HMNet/test_lbl/17-04-04_11-00-13_cut_15_183500000_243500000_bbox.npy Timestamps are not monotonic\n",
      "/home/tkyen/opencv_practice/data_1/Gen1_Automotive/HMNet/test_lbl/17-04-04_11-00-13_cut_15_183500000_243500000_bbox.npy Timestamps are not monotonic\n",
      "/home/tkyen/opencv_practice/data_1/Gen1_Automotive/HMNet/test_lbl/17-04-04_11-00-13_cut_15_183500000_243500000_bbox.npy Timestamps are not monotonic\n",
      "/home/tkyen/opencv_practice/data_1/Gen1_Automotive/HMNet/test_lbl/17-04-04_11-00-13_cut_15_183500000_243500000_bbox.npy Timestamps are not monotonic\n",
      "/home/tkyen/opencv_practice/data_1/Gen1_Automotive/HMNet/test_lbl/17-04-04_11-00-13_cut_15_183500000_243500000_bbox.npy Timestamps are not monotonic\n",
      "/home/tkyen/opencv_practice/data_1/Gen1_Automotive/HMNet/test_lbl/17-04-04_11-00-13_cut_15_183500000_243500000_bbox.npy Timestamps are not monotonic\n",
      "/home/tkyen/opencv_practice/data_1/Gen1_Automotive/HMNet/test_lbl/17-04-04_11-00-13_cut_15_183500000_243500000_bbox.npy Timestamps are not monotonic\n",
      "/home/tkyen/opencv_practice/data_1/Gen1_Automotive/HMNet/test_lbl/17-04-04_11-00-13_cut_15_183500000_243500000_bbox.npy Timestamps are not monotonic\n",
      "/home/tkyen/opencv_practice/data_1/Gen1_Automotive/HMNet/test_lbl/17-04-04_11-00-13_cut_15_183500000_243500000_bbox.npy Timestamps are not monotonic\n",
      "/home/tkyen/opencv_practice/data_1/Gen1_Automotive/HMNet/test_lbl/17-04-04_11-00-13_cut_15_183500000_243500000_bbox.npy Timestamps are not monotonic\n",
      "/home/tkyen/opencv_practice/data_1/Gen1_Automotive/HMNet/test_lbl/17-04-04_11-00-13_cut_15_183500000_243500000_bbox.npy Timestamps are not monotonic\n",
      "/home/tkyen/opencv_practice/data_1/Gen1_Automotive/HMNet/test_lbl/17-04-04_11-00-13_cut_15_183500000_243500000_bbox.npy Timestamps are not monotonic\n",
      "/home/tkyen/opencv_practice/data_1/Gen1_Automotive/HMNet/test_lbl/17-04-04_11-00-13_cut_15_183500000_243500000_bbox.npy Timestamps are not monotonic\n",
      "/home/tkyen/opencv_practice/data_1/Gen1_Automotive/HMNet/test_lbl/17-04-04_11-00-13_cut_15_183500000_243500000_bbox.npy Timestamps are not monotonic\n",
      "/home/tkyen/opencv_practice/data_1/Gen1_Automotive/HMNet/test_lbl/17-04-04_11-00-13_cut_15_183500000_243500000_bbox.npy Timestamps are not monotonic\n",
      "/home/tkyen/opencv_practice/data_1/Gen1_Automotive/HMNet/test_lbl/17-04-04_11-00-13_cut_15_183500000_243500000_bbox.npy Timestamps are not monotonic\n",
      "/home/tkyen/opencv_practice/data_1/Gen1_Automotive/HMNet/test_lbl/17-04-04_11-00-13_cut_15_183500000_243500000_bbox.npy Timestamps are not monotonic\n",
      "/home/tkyen/opencv_practice/data_1/Gen1_Automotive/HMNet/test_lbl/17-04-04_11-00-13_cut_15_183500000_243500000_bbox.npy Timestamps are not monotonic\n",
      "/home/tkyen/opencv_practice/data_1/Gen1_Automotive/HMNet/test_lbl/17-04-04_11-00-13_cut_15_183500000_243500000_bbox.npy Timestamps are not monotonic\n",
      "/home/tkyen/opencv_practice/data_1/Gen1_Automotive/HMNet/test_lbl/17-04-04_11-00-13_cut_15_183500000_243500000_bbox.npy Timestamps are not monotonic\n",
      "/home/tkyen/opencv_practice/data_1/Gen1_Automotive/HMNet/test_lbl/17-04-04_11-00-13_cut_15_183500000_243500000_bbox.npy Timestamps are not monotonic\n",
      "/home/tkyen/opencv_practice/data_1/Gen1_Automotive/HMNet/test_lbl/17-04-04_11-00-13_cut_15_183500000_243500000_bbox.npy Timestamps are not monotonic\n",
      "/home/tkyen/opencv_practice/data_1/Gen1_Automotive/HMNet/test_lbl/17-04-04_11-00-13_cut_15_183500000_243500000_bbox.npy Timestamps are not monotonic\n",
      "/home/tkyen/opencv_practice/data_1/Gen1_Automotive/HMNet/test_lbl/17-04-04_11-00-13_cut_15_183500000_243500000_bbox.npy Timestamps are not monotonic\n",
      "/home/tkyen/opencv_practice/data_1/Gen1_Automotive/HMNet/test_lbl/17-04-04_11-00-13_cut_15_183500000_243500000_bbox.npy Timestamps are not monotonic\n",
      "/home/tkyen/opencv_practice/data_1/Gen1_Automotive/HMNet/test_lbl/17-04-04_11-00-13_cut_15_183500000_243500000_bbox.npy Timestamps are not monotonic\n",
      "/home/tkyen/opencv_practice/data_1/Gen1_Automotive/HMNet/test_lbl/17-04-04_11-00-13_cut_15_183500000_243500000_bbox.npy Timestamps are not monotonic\n",
      "/home/tkyen/opencv_practice/data_1/Gen1_Automotive/HMNet/test_lbl/17-04-04_11-00-13_cut_15_183500000_243500000_bbox.npy Timestamps are not monotonic\n",
      "/home/tkyen/opencv_practice/data_1/Gen1_Automotive/HMNet/test_lbl/17-04-04_11-00-13_cut_15_183500000_243500000_bbox.npy Timestamps are not monotonic\n",
      "/home/tkyen/opencv_practice/data_1/Gen1_Automotive/HMNet/test_lbl/17-04-04_11-00-13_cut_15_183500000_243500000_bbox.npy Timestamps are not monotonic\n",
      "/home/tkyen/opencv_practice/data_1/Gen1_Automotive/HMNet/test_lbl/17-04-04_11-00-13_cut_15_183500000_243500000_bbox.npy Timestamps are not monotonic\n",
      "/home/tkyen/opencv_practice/data_1/Gen1_Automotive/HMNet/test_lbl/17-04-04_11-00-13_cut_15_183500000_243500000_bbox.npy Timestamps are not monotonic\n",
      "/home/tkyen/opencv_practice/data_1/Gen1_Automotive/HMNet/test_lbl/17-04-04_11-00-13_cut_15_183500000_243500000_bbox.npy Timestamps are not monotonic\n",
      "/home/tkyen/opencv_practice/data_1/Gen1_Automotive/HMNet/test_lbl/17-04-04_11-00-13_cut_15_183500000_243500000_bbox.npy Timestamps are not monotonic\n",
      "/home/tkyen/opencv_practice/data_1/Gen1_Automotive/HMNet/test_lbl/17-04-04_11-00-13_cut_15_183500000_243500000_bbox.npy Timestamps are not monotonic\n",
      "/home/tkyen/opencv_practice/data_1/Gen1_Automotive/HMNet/test_lbl/17-04-04_11-00-13_cut_15_183500000_243500000_bbox.npy Timestamps are not monotonic\n",
      "/home/tkyen/opencv_practice/data_1/Gen1_Automotive/HMNet/test_lbl/17-04-04_11-00-13_cut_15_183500000_243500000_bbox.npy Timestamps are not monotonic\n",
      "/home/tkyen/opencv_practice/data_1/Gen1_Automotive/HMNet/test_lbl/17-04-04_11-00-13_cut_15_183500000_243500000_bbox.npy Timestamps are not monotonic\n",
      "/home/tkyen/opencv_practice/data_1/Gen1_Automotive/HMNet/test_lbl/17-04-04_11-00-13_cut_15_183500000_243500000_bbox.npy Timestamps are not monotonic\n",
      "/home/tkyen/opencv_practice/data_1/Gen1_Automotive/HMNet/test_lbl/17-04-04_11-00-13_cut_15_183500000_243500000_bbox.npy Timestamps are not monotonic\n",
      "/home/tkyen/opencv_practice/data_1/Gen1_Automotive/HMNet/test_lbl/17-04-04_11-00-13_cut_15_183500000_243500000_bbox.npy Timestamps are not monotonic\n",
      "/home/tkyen/opencv_practice/data_1/Gen1_Automotive/HMNet/test_lbl/17-04-04_11-00-13_cut_15_183500000_243500000_bbox.npy Timestamps are not monotonic\n",
      "/home/tkyen/opencv_practice/data_1/Gen1_Automotive/HMNet/test_lbl/17-04-04_11-00-13_cut_15_183500000_243500000_bbox.npy Timestamps are not monotonic\n",
      "/home/tkyen/opencv_practice/data_1/Gen1_Automotive/HMNet/test_lbl/17-04-04_11-00-13_cut_15_183500000_243500000_bbox.npy Timestamps are not monotonic\n",
      "/home/tkyen/opencv_practice/data_1/Gen1_Automotive/HMNet/test_lbl/17-04-04_11-00-13_cut_15_183500000_243500000_bbox.npy Timestamps are not monotonic\n",
      "/home/tkyen/opencv_practice/data_1/Gen1_Automotive/HMNet/test_lbl/17-04-04_11-00-13_cut_15_183500000_243500000_bbox.npy Timestamps are not monotonic\n",
      "/home/tkyen/opencv_practice/data_1/Gen1_Automotive/HMNet/test_lbl/17-04-04_11-00-13_cut_15_183500000_243500000_bbox.npy Timestamps are not monotonic\n",
      "/home/tkyen/opencv_practice/data_1/Gen1_Automotive/HMNet/test_lbl/17-04-04_11-00-13_cut_15_183500000_243500000_bbox.npy Timestamps are not monotonic\n",
      "/home/tkyen/opencv_practice/data_1/Gen1_Automotive/HMNet/test_lbl/17-04-04_11-00-13_cut_15_183500000_243500000_bbox.npy Timestamps are not monotonic\n",
      "/home/tkyen/opencv_practice/data_1/Gen1_Automotive/HMNet/test_lbl/17-04-04_11-00-13_cut_15_183500000_243500000_bbox.npy Timestamps are not monotonic\n",
      "/home/tkyen/opencv_practice/data_1/Gen1_Automotive/HMNet/test_lbl/17-04-04_11-00-13_cut_15_183500000_243500000_bbox.npy Timestamps are not monotonic\n",
      "/home/tkyen/opencv_practice/data_1/Gen1_Automotive/HMNet/test_lbl/17-04-04_11-00-13_cut_15_183500000_243500000_bbox.npy Timestamps are not monotonic\n",
      "/home/tkyen/opencv_practice/data_1/Gen1_Automotive/HMNet/test_lbl/17-04-04_11-00-13_cut_15_183500000_243500000_bbox.npy Timestamps are not monotonic\n",
      "/home/tkyen/opencv_practice/data_1/Gen1_Automotive/HMNet/test_lbl/17-04-04_11-00-13_cut_15_183500000_243500000_bbox.npy Timestamps are not monotonic\n",
      "/home/tkyen/opencv_practice/data_1/Gen1_Automotive/HMNet/test_lbl/17-04-04_11-00-13_cut_15_183500000_243500000_bbox.npy Timestamps are not monotonic\n",
      "/home/tkyen/opencv_practice/data_1/Gen1_Automotive/HMNet/test_lbl/17-04-04_11-00-13_cut_15_183500000_243500000_bbox.npy Timestamps are not monotonic\n",
      "/home/tkyen/opencv_practice/data_1/Gen1_Automotive/HMNet/test_lbl/17-04-04_11-00-13_cut_15_183500000_243500000_bbox.npy Timestamps are not monotonic\n",
      "/home/tkyen/opencv_practice/data_1/Gen1_Automotive/HMNet/test_lbl/17-04-04_11-00-13_cut_15_183500000_243500000_bbox.npy Timestamps are not monotonic\n",
      "/home/tkyen/opencv_practice/data_1/Gen1_Automotive/HMNet/test_lbl/17-04-04_11-00-13_cut_15_183500000_243500000_bbox.npy Timestamps are not monotonic\n",
      "/home/tkyen/opencv_practice/data_1/Gen1_Automotive/HMNet/test_lbl/17-04-04_11-00-13_cut_15_183500000_243500000_bbox.npy Timestamps are not monotonic\n",
      "/home/tkyen/opencv_practice/data_1/Gen1_Automotive/HMNet/test_lbl/17-04-04_11-00-13_cut_15_183500000_243500000_bbox.npy Timestamps are not monotonic\n",
      "/home/tkyen/opencv_practice/data_1/Gen1_Automotive/HMNet/test_lbl/17-04-04_11-00-13_cut_15_183500000_243500000_bbox.npy Timestamps are not monotonic\n",
      "/home/tkyen/opencv_practice/data_1/Gen1_Automotive/HMNet/test_lbl/17-04-04_11-00-13_cut_15_183500000_243500000_bbox.npy Timestamps are not monotonic\n",
      "/home/tkyen/opencv_practice/data_1/Gen1_Automotive/HMNet/test_lbl/17-04-04_11-00-13_cut_15_183500000_243500000_bbox.npy Timestamps are not monotonic\n",
      "/home/tkyen/opencv_practice/data_1/Gen1_Automotive/HMNet/test_lbl/17-04-04_11-00-13_cut_15_183500000_243500000_bbox.npy Timestamps are not monotonic\n",
      "/home/tkyen/opencv_practice/data_1/Gen1_Automotive/HMNet/test_lbl/17-04-04_11-00-13_cut_15_183500000_243500000_bbox.npy Timestamps are not monotonic\n",
      "/home/tkyen/opencv_practice/data_1/Gen1_Automotive/HMNet/test_lbl/17-04-04_11-00-13_cut_15_183500000_243500000_bbox.npy Timestamps are not monotonic\n",
      "/home/tkyen/opencv_practice/data_1/Gen1_Automotive/HMNet/test_lbl/17-04-04_11-00-13_cut_15_183500000_243500000_bbox.npy Timestamps are not monotonic\n",
      "/home/tkyen/opencv_practice/data_1/Gen1_Automotive/HMNet/test_lbl/17-04-04_11-00-13_cut_15_183500000_243500000_bbox.npy Timestamps are not monotonic\n",
      "/home/tkyen/opencv_practice/data_1/Gen1_Automotive/HMNet/test_lbl/17-04-04_11-00-13_cut_15_183500000_243500000_bbox.npy Timestamps are not monotonic\n",
      "/home/tkyen/opencv_practice/data_1/Gen1_Automotive/HMNet/test_lbl/17-04-04_11-00-13_cut_15_183500000_243500000_bbox.npy Timestamps are not monotonic\n",
      "/home/tkyen/opencv_practice/data_1/Gen1_Automotive/HMNet/test_lbl/17-04-04_11-00-13_cut_15_183500000_243500000_bbox.npy Timestamps are not monotonic\n",
      "/home/tkyen/opencv_practice/data_1/Gen1_Automotive/HMNet/test_lbl/17-04-04_11-00-13_cut_15_183500000_243500000_bbox.npy Timestamps are not monotonic\n",
      "/home/tkyen/opencv_practice/data_1/Gen1_Automotive/HMNet/test_lbl/17-04-04_11-00-13_cut_15_183500000_243500000_bbox.npy Timestamps are not monotonic\n",
      "/home/tkyen/opencv_practice/data_1/Gen1_Automotive/HMNet/test_lbl/17-04-04_11-00-13_cut_15_183500000_243500000_bbox.npy Timestamps are not monotonic\n",
      "/home/tkyen/opencv_practice/data_1/Gen1_Automotive/HMNet/test_lbl/17-04-04_11-00-13_cut_15_183500000_243500000_bbox.npy Timestamps are not monotonic\n",
      "/home/tkyen/opencv_practice/data_1/Gen1_Automotive/HMNet/test_lbl/17-04-04_11-00-13_cut_15_183500000_243500000_bbox.npy Timestamps are not monotonic\n",
      "/home/tkyen/opencv_practice/data_1/Gen1_Automotive/HMNet/test_lbl/17-04-04_11-00-13_cut_15_183500000_243500000_bbox.npy Timestamps are not monotonic\n",
      "/home/tkyen/opencv_practice/data_1/Gen1_Automotive/HMNet/test_lbl/17-04-04_11-00-13_cut_15_183500000_243500000_bbox.npy Timestamps are not monotonic\n",
      "/home/tkyen/opencv_practice/data_1/Gen1_Automotive/HMNet/test_lbl/17-04-04_11-00-13_cut_15_183500000_243500000_bbox.npy Timestamps are not monotonic\n",
      "/home/tkyen/opencv_practice/data_1/Gen1_Automotive/HMNet/test_lbl/17-04-04_11-00-13_cut_15_244500000_304500000_bbox.npy Timestamps are not monotonic\n",
      "/home/tkyen/opencv_practice/data_1/Gen1_Automotive/HMNet/test_lbl/17-04-04_11-00-13_cut_15_244500000_304500000_bbox.npy Timestamps are not monotonic\n",
      "/home/tkyen/opencv_practice/data_1/Gen1_Automotive/HMNet/test_lbl/17-04-04_11-00-13_cut_15_244500000_304500000_bbox.npy Timestamps are not monotonic\n",
      "/home/tkyen/opencv_practice/data_1/Gen1_Automotive/HMNet/test_lbl/17-04-04_11-00-13_cut_15_244500000_304500000_bbox.npy Timestamps are not monotonic\n",
      "/home/tkyen/opencv_practice/data_1/Gen1_Automotive/HMNet/test_lbl/17-04-04_11-00-13_cut_15_244500000_304500000_bbox.npy Timestamps are not monotonic\n",
      "/home/tkyen/opencv_practice/data_1/Gen1_Automotive/HMNet/test_lbl/17-04-04_11-00-13_cut_15_244500000_304500000_bbox.npy Timestamps are not monotonic\n",
      "/home/tkyen/opencv_practice/data_1/Gen1_Automotive/HMNet/test_lbl/17-04-04_11-00-13_cut_15_244500000_304500000_bbox.npy Timestamps are not monotonic\n",
      "/home/tkyen/opencv_practice/data_1/Gen1_Automotive/HMNet/test_lbl/17-04-04_11-00-13_cut_15_244500000_304500000_bbox.npy Timestamps are not monotonic\n",
      "/home/tkyen/opencv_practice/data_1/Gen1_Automotive/HMNet/test_lbl/17-04-04_11-00-13_cut_15_244500000_304500000_bbox.npy Timestamps are not monotonic\n",
      "/home/tkyen/opencv_practice/data_1/Gen1_Automotive/HMNet/test_lbl/17-04-04_11-00-13_cut_15_244500000_304500000_bbox.npy Timestamps are not monotonic\n",
      "/home/tkyen/opencv_practice/data_1/Gen1_Automotive/HMNet/test_lbl/17-04-04_11-00-13_cut_15_244500000_304500000_bbox.npy Timestamps are not monotonic\n",
      "/home/tkyen/opencv_practice/data_1/Gen1_Automotive/HMNet/test_lbl/17-04-04_11-00-13_cut_15_244500000_304500000_bbox.npy Timestamps are not monotonic\n",
      "/home/tkyen/opencv_practice/data_1/Gen1_Automotive/HMNet/test_lbl/17-04-04_11-00-13_cut_15_244500000_304500000_bbox.npy Timestamps are not monotonic\n",
      "/home/tkyen/opencv_practice/data_1/Gen1_Automotive/HMNet/test_lbl/17-04-04_11-00-13_cut_15_244500000_304500000_bbox.npy Timestamps are not monotonic\n",
      "/home/tkyen/opencv_practice/data_1/Gen1_Automotive/HMNet/test_lbl/17-04-04_11-00-13_cut_15_244500000_304500000_bbox.npy Timestamps are not monotonic\n",
      "/home/tkyen/opencv_practice/data_1/Gen1_Automotive/HMNet/test_lbl/17-04-04_11-00-13_cut_15_244500000_304500000_bbox.npy Timestamps are not monotonic\n",
      "/home/tkyen/opencv_practice/data_1/Gen1_Automotive/HMNet/test_lbl/17-04-04_11-00-13_cut_15_244500000_304500000_bbox.npy Timestamps are not monotonic\n",
      "/home/tkyen/opencv_practice/data_1/Gen1_Automotive/HMNet/test_lbl/17-04-04_11-00-13_cut_15_244500000_304500000_bbox.npy Timestamps are not monotonic\n",
      "/home/tkyen/opencv_practice/data_1/Gen1_Automotive/HMNet/test_lbl/17-04-04_11-00-13_cut_15_244500000_304500000_bbox.npy Timestamps are not monotonic\n",
      "/home/tkyen/opencv_practice/data_1/Gen1_Automotive/HMNet/test_lbl/17-04-04_11-00-13_cut_15_244500000_304500000_bbox.npy Timestamps are not monotonic\n",
      "/home/tkyen/opencv_practice/data_1/Gen1_Automotive/HMNet/test_lbl/17-04-11_15-13-23_122500000_182500000_bbox.npy Timestamps are not monotonic\n",
      "/home/tkyen/opencv_practice/data_1/Gen1_Automotive/HMNet/test_lbl/17-04-11_15-13-23_122500000_182500000_bbox.npy Timestamps are not monotonic\n"
     ]
    }
   ],
   "source": [
    "for i, (event_dat_path, gt_label_path, dt_label_path) in enumerate(zip(event_dat_list, gt_label_list, dt_label_list)):\n",
    "    if i > 5:\n",
    "        break\n",
    "    event_file = os.path.basename(event_dat_path).replace('_td.dat', '')\n",
    "    gt_file = os.path.basename(gt_label_path).replace('_bbox.npy', '')\n",
    "    dt_file = os.path.basename(dt_label_path).replace('_bbox.npy', '')\n",
    "    assert event_file==gt_file==dt_file\n",
    "\n",
    "    event_dat = EventDatReader(event_dat_path)\n",
    "    event_dat.seek_time(0)\n",
    "    ev_height, ev_width = event_dat.get_size()\n",
    "\n",
    "    gt_label = EventNpyReader(gt_label_path)\n",
    "    gt_label.seek_time(0)\n",
    "\n",
    "    dt_label = EventNpyReader(dt_label_path)\n",
    "    dt_label.seek_time(0)\n",
    "\n",
    "    delta_t = 50000\n",
    "\n",
    "    # VideoWriter\n",
    "    fourcc = cv2.VideoWriter_fourcc('m', 'p', '4', 'v')\n",
    "    frame_rate = 10\n",
    "    video_writer = cv2.VideoWriter(os.path.join(video_dir, '{}.mp4'.format(event_file)), fourcc, frame_rate, (ev_width*2, ev_height))\n",
    "    colors = [[0,0,255], [0,255,0]]\n",
    "\n",
    "    for i in range(int(60e6//delta_t)):\n",
    "        events = event_dat.load_delta_t(delta_t=delta_t)\n",
    "        gt_boxes = gt_label.load_delta_t(delta_t=delta_t)\n",
    "        dt_boxes = dt_label.load_delta_t(delta_t=delta_t)\n",
    "\n",
    "        image_all = np.zeros((ev_height, ev_width*2, 3), dtype=np.uint8)\n",
    "        BaseFrameGenerationAlgorithm.generate_frame(events, image_all[:,:ev_width, :])\n",
    "        image_all[:,ev_width:, :] = image_all[:,:ev_width, :].copy()\n",
    "        cv2.putText(image_all, '{} ms / {} ms'.format(i*delta_t//1000, (i+1)*delta_t//1000), \n",
    "                    (ev_width-200, 20), cv2.FONT_HERSHEY_TRIPLEX, 0.5, (0, 255, 255), 1, cv2.LINE_AA)\n",
    "        cv2.putText(image_all, 'GT',\n",
    "                    (10, 20), cv2.FONT_HERSHEY_TRIPLEX, 0.5, (0, 255, 255), 1, cv2.LINE_AA)\n",
    "        cv2.putText(image_all, 'DT',\n",
    "                    (ev_width+10, 20), cv2.FONT_HERSHEY_TRIPLEX, 0.5, (0, 255, 255), 1, cv2.LINE_AA)\n",
    "        image_all = cv2.line(image_all, (ev_width,0), (ev_width,ev_height), (0,255,255), 1)\n",
    "\n",
    "        for gt_box in gt_boxes:\n",
    "            t, x, y, w, h, class_id, confidence, track_id, invalid = gt_box\n",
    "            x, y, w, h = int(x), int(y), int(w), int(h)\n",
    "            if invalid == False:\n",
    "                cv2.rectangle(image_all, (x, y), (x+w, y+h), colors[class_id], 1)\n",
    "\n",
    "        for dt_box in dt_boxes:\n",
    "            t, x, y, w, h, class_id, track_id, confidence = dt_box\n",
    "            if confidence > 0.4:\n",
    "                x, y, w, h = int(x), int(y), int(w), int(h)\n",
    "                cv2.rectangle(image_all, (ev_width+x, y), (ev_width+x+w, y+h), colors[class_id], 1)\n",
    "\n",
    "        video_writer.write(image_all)\n",
    "    video_writer.release()\n",
    "    # break"
   ]
  },
  {
   "cell_type": "code",
   "execution_count": 29,
   "id": "06761d01-50e3-43da-b6af-eb4f29533138",
   "metadata": {},
   "outputs": [],
   "source": [
    "dt_label = EventNpyReader(dt_label_path)\n",
    "dt_label.seek_time(0)"
   ]
  },
  {
   "cell_type": "code",
   "execution_count": 32,
   "id": "b9e2338a-50d5-4d30-be8d-5fa144ee6d02",
   "metadata": {},
   "outputs": [
    {
     "name": "stdout",
     "output_type": "stream",
     "text": [
      "[(60000, 103.47125, 139.07794, 57.60663 , 33.27533 , 0, 0, 0.9034182 )\n",
      " (60000, 264.98108, 122.42304, 39.01892 , 65.67785 , 0, 0, 0.02851164)\n",
      " (60000, 262.36133, 130.877  , 40.019714, 48.435944, 0, 0, 0.01577923)]\n"
     ]
    }
   ],
   "source": [
    "while 1:\n",
    "    dt_boxes = dt_label.load_delta_t(5000)\n",
    "    if len(dt_boxes) > 0:\n",
    "        print(dt_boxes)\n",
    "        break"
   ]
  },
  {
   "cell_type": "code",
   "execution_count": 33,
   "id": "84f31f63-91c2-4935-98d2-59da05b02193",
   "metadata": {},
   "outputs": [],
   "source": [
    "gt_label = EventNpyReader(gt_label_path)\n",
    "gt_label.seek_time(0)"
   ]
  },
  {
   "cell_type": "code",
   "execution_count": 35,
   "id": "1890c0a1-3692-4d3a-8eae-db1a81ec8c74",
   "metadata": {},
   "outputs": [
    {
     "name": "stdout",
     "output_type": "stream",
     "text": [
      "[(599999, 0., 126., 110., 81., 0, 1., 272, False)]\n"
     ]
    }
   ],
   "source": [
    "while 1:\n",
    "    gt_boxes = gt_label.load_delta_t(5000)\n",
    "    if len(gt_boxes) > 0:\n",
    "        print(gt_boxes)\n",
    "        break"
   ]
  },
  {
   "cell_type": "code",
   "execution_count": 21,
   "id": "ae51c404-5a63-46fe-af27-62b433baa5a2",
   "metadata": {},
   "outputs": [],
   "source": [
    "ev_height, ev_width = event_dat.get_size()\n",
    "event_dat.seek_time(0)\n",
    "events = event_dat.load_delta_t(delta_t=delta_t)"
   ]
  },
  {
   "cell_type": "code",
   "execution_count": 36,
   "id": "a49480dc-1247-4366-b063-4ed3cb53fe13",
   "metadata": {},
   "outputs": [
    {
     "data": {
      "text/plain": [
       "304"
      ]
     },
     "execution_count": 36,
     "metadata": {},
     "output_type": "execute_result"
    }
   ],
   "source": [
    "ev_height\n",
    "ev_width"
   ]
  },
  {
   "cell_type": "code",
   "execution_count": 22,
   "id": "f350ad0c-dc74-4d29-80c2-187c9b98c02b",
   "metadata": {},
   "outputs": [],
   "source": [
    "record_dat = EventDatReader(\"/home/tkyen/opencv_practice/data_1/Gen4_Automotive/test_dat/moorea_2019-06-17_test_01_000_1525500000_1585500000_td.dat\")\n",
    "rc_height, rc_width = record_dat.get_size()\n",
    "\n",
    "record_dat.seek_time(0)\n",
    "record_events = record_dat.load_delta_t(delta_t=delta_t)\n"
   ]
  },
  {
   "cell_type": "code",
   "execution_count": 23,
   "id": "1ce379a5-efc6-4de4-affe-4050676b630e",
   "metadata": {},
   "outputs": [
    {
     "data": {
      "text/plain": [
       "720"
      ]
     },
     "execution_count": 23,
     "metadata": {},
     "output_type": "execute_result"
    }
   ],
   "source": [
    "rc_height"
   ]
  },
  {
   "cell_type": "code",
   "execution_count": 14,
   "id": "7acc1757-506b-4195-b07c-19a5b1ecedbb",
   "metadata": {},
   "outputs": [
    {
     "name": "stdout",
     "output_type": "stream",
     "text": [
      "[(99999, 40., 144., 52., 33., 0, 1., 202, False)]\n",
      "[99999]\n"
     ]
    }
   ],
   "source": [
    "gt_label = np.load(\"/home/tkyen/opencv_practice/data_1/Gen1_Automotive/HMNet/test_lbl/17-04-11_15-13-23_122500000_182500000_bbox.npy\")\n",
    "print(gt_label)\n",
    "gt_ts = np.unique(gt_label['t'])\n",
    "print(gt_ts)\n",
    "# for i in range(len(gt_ts)//8):\n",
    "#     print(gt_ts[i*8:(i+1)*8])\n",
    "# print(gt_ts[(i+1)*8:])"
   ]
  },
  {
   "cell_type": "code",
   "execution_count": null,
   "id": "86d34677-044c-4db1-9d1c-c431d1454b3b",
   "metadata": {},
   "outputs": [],
   "source": []
  }
 ],
 "metadata": {
  "kernelspec": {
   "display_name": "Python 3 (ipykernel)",
   "language": "python",
   "name": "python3"
  },
  "language_info": {
   "codemirror_mode": {
    "name": "ipython",
    "version": 3
   },
   "file_extension": ".py",
   "mimetype": "text/x-python",
   "name": "python",
   "nbconvert_exporter": "python",
   "pygments_lexer": "ipython3",
   "version": "3.8.10"
  }
 },
 "nbformat": 4,
 "nbformat_minor": 5
}
